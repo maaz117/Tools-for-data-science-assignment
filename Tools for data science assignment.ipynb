{
 "cells": [
  {
   "cell_type": "markdown",
   "id": "1cdd0aef-c163-4b5a-b47c-251fdb9b2815",
   "metadata": {},
   "source": [
    "# \"My Jupyter Notebook on IBM Watson Studio\" "
   ]
  },
  {
   "cell_type": "markdown",
   "id": "1849de96-915c-4e4b-a73a-64bbf900dc87",
   "metadata": {},
   "source": [
    "**Maaz Adnan**"
   ]
  },
  {
   "cell_type": "markdown",
   "id": "aa66f9dd-52e6-44ca-8f33-bc740ea5312e",
   "metadata": {},
   "source": [
    "Student"
   ]
  },
  {
   "cell_type": "markdown",
   "id": "7f128e39-bdf7-43e0-835a-674919a149f1",
   "metadata": {},
   "source": [
    "*I am interested in data science because it is used by organizations across all industries, which means there are many job opportunities available also it is a field of high degree of job satisfaction and also growing demand.*"
   ]
  },
  {
   "cell_type": "markdown",
   "id": "d196db6d-5c03-4834-84e1-060101df5bae",
   "metadata": {},
   "source": [
    "### The following code will add two numbers"
   ]
  },
  {
   "cell_type": "code",
   "execution_count": 2,
   "id": "a7e20d1a-711b-4135-b3eb-5ff670626989",
   "metadata": {},
   "outputs": [
    {
     "name": "stdout",
     "output_type": "stream",
     "text": [
      "8\n"
     ]
    }
   ],
   "source": [
    "print(6 + 2)"
   ]
  },
  {
   "cell_type": "markdown",
   "id": "7d9278f4-4810-4d0b-beb1-c087ef3e0faa",
   "metadata": {},
   "source": [
    "---"
   ]
  },
  {
   "cell_type": "markdown",
   "id": "aa1865d8-5bba-452f-a709-b4ade3f42eb0",
   "metadata": {},
   "source": [
    "1. Data Analysis\n",
    "2. AI\n",
    "3. IoT\n",
    "* Machine Learning\n",
    "* Deep Learning"
   ]
  },
  {
   "cell_type": "markdown",
   "id": "8ea78187-e33f-4875-85fd-30723709174c",
   "metadata": {},
   "source": [
    "The `highlighted` text.."
   ]
  },
  {
   "cell_type": "markdown",
   "id": "85dd6f0d-895f-4c35-9930-8c9f08ae952c",
   "metadata": {},
   "source": [
    "[Github](https://github.com/maaz117)"
   ]
  },
  {
   "cell_type": "code",
   "execution_count": null,
   "id": "9774c7c0-0644-41b4-8456-82569c0243b3",
   "metadata": {},
   "outputs": [],
   "source": []
  }
 ],
 "metadata": {
  "kernelspec": {
   "display_name": "Python",
   "language": "python",
   "name": "conda-env-python-py"
  },
  "language_info": {
   "codemirror_mode": {
    "name": "ipython",
    "version": 3
   },
   "file_extension": ".py",
   "mimetype": "text/x-python",
   "name": "python",
   "nbconvert_exporter": "python",
   "pygments_lexer": "ipython3",
   "version": "3.7.12"
  }
 },
 "nbformat": 4,
 "nbformat_minor": 5
}
